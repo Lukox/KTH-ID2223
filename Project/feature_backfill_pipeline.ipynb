{
  "nbformat": 4,
  "nbformat_minor": 0,
  "metadata": {
    "colab": {
      "provenance": []
    },
    "kernelspec": {
      "name": "python3",
      "display_name": "Python 3"
    },
    "language_info": {
      "name": "python"
    }
  },
  "cells": [
    {
      "cell_type": "code",
      "source": [
        "!pip install matplotlib"
      ],
      "metadata": {
        "id": "XFodlxAwmmiK"
      },
      "execution_count": null,
      "outputs": []
    },
    {
      "cell_type": "code",
      "execution_count": 1,
      "metadata": {
        "id": "2bXKZeKgmbnC"
      },
      "outputs": [],
      "source": [
        "import requests\n",
        "import time\n",
        "import sys\n",
        "import json\n",
        "import pickle\n",
        "import numpy as np\n",
        "import pandas as pd\n",
        "from google.colab import userdata\n",
        "import pickle"
      ]
    },
    {
      "cell_type": "code",
      "source": [
        "from google.colab import drive\n",
        "drive.mount('/content/drive')"
      ],
      "metadata": {
        "id": "t_F5N7Zfmlb-"
      },
      "execution_count": null,
      "outputs": []
    },
    {
      "cell_type": "code",
      "source": [
        "# request headers, only need to refresh api key\n",
        "headers = {\n",
        "    \"User-Agent\": \"Mozilla/5.0 (Windows NT 10.0; Win64; x64) AppleWebKit/537.36 (KHTML, like Gecko) Chrome/120.0.0.0 Safari/537.36\",\n",
        "    \"Accept-Language\": \"en,pl-PL;q=0.9,pl;q=0.8,en-US;q=0.7\",\n",
        "    \"Accept-Charset\": \"application/x-www-form-urlencoded; charset=UTF-8\",\n",
        "    \"Origin\": \"https://developer.riotgames.com\",\n",
        "    \"X-Riot-Token\": userdata.get(\"RIOT_API\")\n",
        "}\n",
        "headers"
      ],
      "metadata": {
        "id": "1svu2ZStmqep"
      },
      "execution_count": null,
      "outputs": []
    },
    {
      "cell_type": "markdown",
      "source": [
        "### Getting Match Ids from the Riot API"
      ],
      "metadata": {
        "id": "y_vLqA6Uu3-Z"
      }
    },
    {
      "cell_type": "code",
      "source": [
        "ranks = [\"IRON\", \"BRONZE\", \"SILVER\", \"GOLD\", \"PLATINUM\", \"EMERALD\", \"DIAMOND\", \"MASTER\", \"GRANDMASTER\", \"CHALLENGER\"]"
      ],
      "metadata": {
        "id": "wAtDpYzWmr2h"
      },
      "execution_count": null,
      "outputs": []
    },
    {
      "cell_type": "code",
      "source": [
        "#Rank Distirbution LOL to get games in correct distribution\n",
        "total_games = 100000\n",
        "\n",
        "rank_percentages = {\n",
        "    \"IRON\": 7.5,\n",
        "    \"BRONZE\": 20,\n",
        "    \"SILVER\": 19,\n",
        "    \"GOLD\": 19,\n",
        "    \"PLATINUM\": 19,\n",
        "    \"EMERALD\": 13,\n",
        "    \"DIAMOND\": 3,\n",
        "    \"MASTER\": 0.5,\n",
        "    \"GRANDMASTER\": 0.04,\n",
        "    \"CHALLENGER\": 0.02\n",
        "}\n",
        "\n",
        "# Calculate the number of games for each rank\n",
        "rank_games = {rank: int(total_games * percentage / 100) for rank, percentage in rank_percentages.items()}"
      ],
      "metadata": {
        "id": "DcZSB1Qym3QH"
      },
      "execution_count": null,
      "outputs": []
    },
    {
      "cell_type": "code",
      "source": [
        "def getPuuids(summonerIds):\n",
        "  puuids = []\n",
        "  for summonerId in summonerIds:\n",
        "    url_summoners = f\"https://euw1.api.riotgames.com/lol/summoner/v4/summoners/{summonerId}\"\n",
        "    r = requests.get(url=url_summoners, headers=headers)\n",
        "    if r.status_code != 200:\n",
        "      print(r.status_code)\n",
        "      if r.status_code == 429:\n",
        "        #time.sleep(r.headers[\"Retry-After\"])\n",
        "        #print(f\"Hit limit - proceeding in {r.headers['Retry-After']}\")\n",
        "        print(\"LIMIT\")\n",
        "      continue\n",
        "    puuids.append(r.json()[\"puuid\"])\n",
        "    time.sleep(0.8)\n",
        "  return puuids"
      ],
      "metadata": {
        "id": "cZTseqkQoMDm"
      },
      "execution_count": null,
      "outputs": []
    },
    {
      "cell_type": "code",
      "source": [
        "def getMatchIds(rank, numOfGames):\n",
        "  url = f\"https://euw1.api.riotgames.com/lol/league-exp/v4/entries/RANKED_SOLO_5x5/{rank}/I?page=5\"\n",
        "  r = requests.get(url=url, headers=headers)\n",
        "  players = r.json()\n",
        "  summonerIds = [player[\"summonerId\"] for player in players]\n",
        "  puuids = getPuuids(summonerIds)\n",
        "  totalGames = 0\n",
        "  match_ids = []\n",
        "  for puuid in puuids:\n",
        "    if totalGames > numOfGames:\n",
        "      break\n",
        "    url4 = f\"https://europe.api.riotgames.com/lol/match/v5/matches/by-puuid/{puuid}/ids?queue=420&start=0&count=20\"\n",
        "    r = requests.get(url=url4, headers=headers)\n",
        "    for id in r.json():\n",
        "      match_ids.append(id)\n",
        "      print(id)\n",
        "    totalGames+=20\n",
        "    time.sleep(0.8)\n",
        "  return match_ids"
      ],
      "metadata": {
        "id": "4q7yyDxwnTaQ"
      },
      "execution_count": null,
      "outputs": []
    },
    {
      "cell_type": "code",
      "source": [
        "allMatchIds = []\n",
        "for rank in ranks:\n",
        "  allMatchIds.append(getMatchIds(rank, rank_games[rank]))"
      ],
      "metadata": {
        "id": "YlQS46SRnZJb"
      },
      "execution_count": null,
      "outputs": []
    },
    {
      "cell_type": "code",
      "source": [
        "matchIds = [item for sublist in allMatchIds for item in sublist]"
      ],
      "metadata": {
        "id": "gS613h5kvL3v"
      },
      "execution_count": null,
      "outputs": []
    },
    {
      "cell_type": "code",
      "source": [
        "to_save = {\"match_ids\": np.unique(matchIds.flatten())}\n",
        "with open(\"/content/drive/MyDrive/ML/match_ids_1_unique.json\", \"wb\") as f:\n",
        "  pickle.dump(to_save, f)"
      ],
      "metadata": {
        "id": "LCLbTyEtvU6N"
      },
      "execution_count": null,
      "outputs": []
    },
    {
      "cell_type": "markdown",
      "source": [
        "### Getting Match Data from the Match Ids using the Riot API"
      ],
      "metadata": {
        "id": "DPYrWBaSvAoM"
      }
    },
    {
      "cell_type": "code",
      "source": [
        "with open(\"/content/drive/MyDrive/ML/match_ids_1_unique.json\", \"rb\") as f:\n",
        "  matches = pickle.load(f)\n",
        "\n",
        "matches"
      ],
      "metadata": {
        "id": "_B3o5wgxviFe"
      },
      "execution_count": null,
      "outputs": []
    },
    {
      "cell_type": "code",
      "source": [
        "matches = matches[\"match_ids\"]"
      ],
      "metadata": {
        "id": "JFRGWZP5vmQi"
      },
      "execution_count": null,
      "outputs": []
    },
    {
      "cell_type": "code",
      "source": [
        "def updateWinMatrix(champion_stats, data):\n",
        "    # Process the data and update the statistics\n",
        "    for entry in data:\n",
        "        champion_name = entry[0]\n",
        "        champion_id = entry[1]\n",
        "        position = entry[2]\n",
        "        win = entry[3]\n",
        "        if position == '':\n",
        "          print(\"No Position\")\n",
        "          continue\n",
        "\n",
        "        # Initialize the dictionary if the champion is not present\n",
        "        if champion_id not in champion_stats:\n",
        "            champion_stats[champion_id] = {'TOP': {'wins': 0, 'losses': 0},\n",
        "                                           'JUNGLE': {'wins': 0, 'losses': 0},\n",
        "                                           'MIDDLE': {'wins': 0, 'losses': 0},\n",
        "                                           'BOTTOM': {'wins': 0, 'losses': 0},\n",
        "                                           'UTILITY': {'wins': 0, 'losses': 0}}\n",
        "\n",
        "        # Update the statistics based on the win status\n",
        "        if win:\n",
        "            champion_stats[champion_id][position]['wins'] += 1\n",
        "        else:\n",
        "            champion_stats[champion_id][position]['losses'] += 1\n",
        "    return champion_stats"
      ],
      "metadata": {
        "id": "l6jmYHU6wBDM"
      },
      "execution_count": null,
      "outputs": []
    },
    {
      "cell_type": "code",
      "source": [
        "def updateSynergyMatrix(matrix, data, matrixSize, keyToIndex):\n",
        "    # Process the data and update the matrix for the first 5 champions\n",
        "    for i in range(5):\n",
        "        for j in range(5):\n",
        "            if i != j:  # Exclude the champion itself\n",
        "                try:\n",
        "                  win = data[i][3]\n",
        "                  teammateKey = data[j][1]\n",
        "                  championKey = data[i][1]\n",
        "                  matrix[keyToIndex[championKey]][keyToIndex[teammateKey]]['wins' if win else 'losses'] += 1\n",
        "                except:\n",
        "                  continue\n",
        "\n",
        "    # Process the data and update the matrix for the remaining 5 champions\n",
        "    for i in range(5, 10):\n",
        "        for j in range(5, 10):\n",
        "            if i != j:  # Exclude the champion itself\n",
        "                try:\n",
        "                  win = data[i][3]\n",
        "                  teammateKey = data[j][1]\n",
        "                  championKey = data[i][1]\n",
        "                  matrix[keyToIndex[championKey]][keyToIndex[teammateKey]]['wins' if win else 'losses'] += 1\n",
        "                except:\n",
        "                  continue\n",
        "    return matrix"
      ],
      "metadata": {
        "id": "nbchowbkwCM-"
      },
      "execution_count": null,
      "outputs": []
    },
    {
      "cell_type": "code",
      "source": [
        "def updateCounterMatrix(matrix, data, matrixSize, keyToIndex):\n",
        "    for i in range(5):\n",
        "      for j in range(5,10):\n",
        "        try:\n",
        "          if data[i][2] == data[j][2]:\n",
        "            win = data[i][3]\n",
        "            enemyKey = data[j][1]\n",
        "            championKey = data[i][1]\n",
        "            matrix[keyToIndex[championKey]][keyToIndex[enemyKey]]['wins' if win else 'losses'] += 1\n",
        "            matrix[keyToIndex[enemyKey]][keyToIndex[championKey]]['losses' if win else 'wins'] += 1\n",
        "        except:\n",
        "          continue\n",
        "    return matrix"
      ],
      "metadata": {
        "id": "MmpCf0CZwDXO"
      },
      "execution_count": null,
      "outputs": []
    },
    {
      "cell_type": "code",
      "source": [
        "url = \"https://ddragon.leagueoflegends.com/cdn/13.24.1/data/en_US/champion.json\"\n",
        "r = requests.get(url=url)\n",
        "r = r.json()\n",
        "keys = [int(championData[\"key\"]) for championName, championData in r['data'].items()]"
      ],
      "metadata": {
        "id": "cCuLuNHKwHBS"
      },
      "execution_count": null,
      "outputs": []
    },
    {
      "cell_type": "code",
      "source": [
        "participants = []\n",
        "champion_stats = {}\n",
        "#champion_to_index = {champion[1]: index for index, champion in enumerate(data)}\n",
        "keyToIndex = {key: index for index, key in enumerate(keys)}\n",
        "matrixSize = len(keys)\n",
        "synergyMatrix = [[{'wins': 0, 'losses': 0} for _ in range(matrixSize)] for _ in range(matrixSize)]\n",
        "counterMatrix = [[{'wins': 0, 'losses': 0} for _ in range(matrixSize)] for _ in range(matrixSize)]"
      ],
      "metadata": {
        "id": "ksYqYoDowXPT"
      },
      "execution_count": null,
      "outputs": []
    },
    {
      "cell_type": "code",
      "source": [
        "def checkpoint():\n",
        "  with open(\"/content/drive/MyDrive/ML/winRateMatrix.pkl\", 'wb') as file:\n",
        "      pickle.dump(champion_stats, file)\n",
        "  with open(\"/content/drive/MyDrive/ML/synergyMatrix.pkl\", 'wb') as file:\n",
        "      pickle.dump(synergyMatrix, file)\n",
        "  with open(\"/content/drive/MyDrive/ML/counterMatrix.pkl\", 'wb') as file:\n",
        "      pickle.dump(counterMatrix, file)\n",
        "  with open(\"/content/drive/MyDrive/ML/dataset.pkl\", 'wb') as file:\n",
        "      pickle.dump(participants, file)"
      ],
      "metadata": {
        "id": "1sE7Kngv6nTf"
      },
      "execution_count": null,
      "outputs": []
    },
    {
      "cell_type": "code",
      "source": [
        "def getMastery(championId, puuid):\n",
        "  url = f\"https://euw1.api.riotgames.com/lol/champion-mastery/v4/champion-masteries/by-puuid/{puuid}/by-champion/{championId}\"\n",
        "  r = requests.get(url=url, headers=headers)\n",
        "  if(r.status_code == 200):\n",
        "    r = r.json()\n",
        "    return  r[\"championLevel\"], r[\"championPoints\"]\n",
        "  else:\n",
        "    print(\"Error getting mastery\")\n",
        "    return 0, 0"
      ],
      "metadata": {
        "id": "0JtK1yPq8J-L"
      },
      "execution_count": null,
      "outputs": []
    },
    {
      "cell_type": "code",
      "source": [
        "def getChampions(r):\n",
        "  champions = [[participant[\"championName\"],participant[\"championId\"],participant[\"teamPosition\"], participant[\"win\"]] for participant in r[\"info\"][\"participants\"]]\n",
        "  return champions"
      ],
      "metadata": {
        "id": "p6thlhe1I-f3"
      },
      "execution_count": null,
      "outputs": []
    },
    {
      "cell_type": "code",
      "source": [
        "def getMatchParticipants(r):\n",
        "  participants = [[participant[\"summonerId\"], participant[\"puuid\"]] for participant in r[\"info\"][\"participants\"]]\n",
        "  return participants"
      ],
      "metadata": {
        "id": "xcB5IsLJJAAa"
      },
      "execution_count": null,
      "outputs": []
    },
    {
      "cell_type": "code",
      "source": [
        "count = 0;\n",
        "for matchId in matches:\n",
        "\n",
        "  #Save to drive every 5000 games\n",
        "  if count == 5000:\n",
        "    checkpoint()\n",
        "    count = 0\n",
        "\n",
        "  url4 = f\"https://europe.api.riotgames.com/lol/match/v5/matches/{matchId}\"\n",
        "  r = requests.get(url=url4, headers=headers)\n",
        "  time.sleep(0.8)\n",
        "\n",
        "  if(r.status_code == 200):\n",
        "    r = r.json()\n",
        "    champions = getChampions(r)\n",
        "    summoners = getMatchParticipants(r)\n",
        "\n",
        "    #Updating matrices\n",
        "    champion_stats = updateWinMatrix(champion_stats, champions)\n",
        "    synergyMatrix = updateSynergyMatrix(synergyMatrix, champions, len(keys), keyToIndex)\n",
        "    counterMatrix = updateCounterMatrix(counterMatrix, champions, len(keys), keyToIndex)\n",
        "\n",
        "    #Storing Game data\n",
        "    participant = []\n",
        "    try:\n",
        "      for x in range(10):\n",
        "        masteryLevel, masteryPoints = getMastery(champions[x][1], summoners[x][1])\n",
        "        time.sleep(0.8)\n",
        "        data = {\n",
        "            'summonerId': summoners[x][0],\n",
        "            'puuid': summoners[x][1],\n",
        "            'champion': champions[x][0],\n",
        "            'championId': champions[x][1],\n",
        "            'role': champions[x][2],\n",
        "            'win': champions[x][3],\n",
        "            'masteryLevel': masteryLevel,\n",
        "            'masteryPoints': masteryPoints\n",
        "        }\n",
        "        participant.append(data)\n",
        "    except:\n",
        "        continue\n",
        "  participants.append(participant)\n",
        "  count+=1"
      ],
      "metadata": {
        "id": "mdDqlCck5v2O"
      },
      "execution_count": null,
      "outputs": []
    },
    {
      "cell_type": "markdown",
      "source": [
        "### Feature Engineering"
      ],
      "metadata": {
        "id": "fvBuENzi-xEf"
      }
    },
    {
      "cell_type": "code",
      "source": [
        "with open(\"/content/drive/MyDrive/ML/winRateMatrix.pkl\", 'rb') as file:\n",
        "      champion_stats = pickle.load(file)\n",
        "with open(\"/content/drive/MyDrive/ML/synergyMatrix.pkl\", 'rb') as file:\n",
        "      synergyMatrix = pickle.load(file)\n",
        "with open(\"/content/drive/MyDrive/ML/counterMatrix.pkl\", 'rb') as file:\n",
        "      counterMatrix = pickle.load(file)\n",
        "with open(\"/content/drive/MyDrive/ML/dataset.pkl\", 'rb') as file:\n",
        "      matches = pickle.load(file)"
      ],
      "metadata": {
        "id": "8kMYo0FU-0EZ"
      },
      "execution_count": null,
      "outputs": []
    },
    {
      "cell_type": "code",
      "source": [
        "totalWins = 0\n",
        "totalLosses = 0\n",
        "\n",
        "for champId, positions in champion_stats.items():\n",
        "    for position, stats in positions.items():\n",
        "        if stats['wins'] + stats['losses'] < 50:\n",
        "            totalWins += stats['wins']\n",
        "            totalLosses += stats['losses']\n",
        "print(totalWins/ (totalWins + totalLosses))\n",
        "avgAutofillRating = (totalWins - totalLosses)/ (totalWins + totalLosses)\n",
        "avgAutofillRating"
      ],
      "metadata": {
        "id": "MkRL-N9jHFeP"
      },
      "execution_count": null,
      "outputs": []
    },
    {
      "cell_type": "code",
      "source": [
        "def getMatchWinner(matchData):\n",
        "  if(matchData[0][\"win\"] == True):\n",
        "    return 0\n",
        "  else:\n",
        "    return 1"
      ],
      "metadata": {
        "id": "JvTci_rVJXRB"
      },
      "execution_count": null,
      "outputs": []
    },
    {
      "cell_type": "code",
      "source": [
        "def getWinLoss(champion_id, position_index):\n",
        "    position_mapping = {0: 'TOP', 1: 'JUNGLE', 2: 'MIDDLE', 3: 'BOTTOM', 4: 'UTILITY'}\n",
        "\n",
        "    if position_index not in position_mapping:\n",
        "        raise ValueError(\"Invalid position index\")\n",
        "\n",
        "    position = position_mapping[position_index]\n",
        "\n",
        "    # Get wins and losses for the specified champion and position\n",
        "    stats = champion_stats[champion_id].get(position, {'wins': 0, 'losses': 0})\n",
        "    wins = stats['wins']\n",
        "    losses = stats['losses']\n",
        "\n",
        "    if(wins+losses < 50):\n",
        "      return avgAutofillRating\n",
        "    else:\n",
        "      return (wins - losses)/(wins + losses)"
      ],
      "metadata": {
        "id": "Uu_p90OOLuk2"
      },
      "execution_count": null,
      "outputs": []
    },
    {
      "cell_type": "code",
      "source": [
        "def getSynergy(matchData):\n",
        "    blueRating = 0\n",
        "    redRating = 0\n",
        "    for i in range(5):\n",
        "      championKey = matchData[i][\"championId\"]\n",
        "      for j in range(i+1, 5):\n",
        "        teammateKey = matchData[j][\"championId\"]\n",
        "        wins = synergyMatrix[keyToIndex[championKey]][keyToIndex[teammateKey]][\"wins\"]\n",
        "        losses = synergyMatrix[keyToIndex[championKey]][keyToIndex[teammateKey]][\"losses\"]\n",
        "        blueRating += ((wins - losses)/(wins + losses))\n",
        "\n",
        "    for i in range(5, 10):\n",
        "      championKey = matchData[i][\"championId\"]\n",
        "      for j in range(i+1, 10):\n",
        "        teammateKey = matchData[j][\"championId\"]\n",
        "        wins = synergyMatrix[keyToIndex[championKey]][keyToIndex[teammateKey]][\"wins\"]\n",
        "        losses = synergyMatrix[keyToIndex[championKey]][keyToIndex[teammateKey]][\"losses\"]\n",
        "        redRating += ((wins - losses)/(wins + losses))\n",
        "\n",
        "    return blueRating, redRating\n"
      ],
      "metadata": {
        "id": "mPLXQ5v8ONvs"
      },
      "execution_count": null,
      "outputs": []
    },
    {
      "cell_type": "code",
      "source": [
        "def getDeltas(matchData):\n",
        "  deltas = []\n",
        "\n",
        "  for i in range(5):\n",
        "      enemyKey = matchData[i+5][\"championId\"]\n",
        "      championKey = matchData[i][\"championId\"]\n",
        "      wins = counterMatrix[keyToIndex[championKey]][keyToIndex[enemyKey]][\"wins\"]\n",
        "      losses = counterMatrix[keyToIndex[championKey]][keyToIndex[enemyKey]][\"losses\"]\n",
        "      if wins+losses == 0:\n",
        "        deltas.append(0)\n",
        "      else:\n",
        "        deltas.append((wins-losses)/(wins+losses))\n",
        "\n",
        "  return deltas[0], deltas[1], deltas[2], deltas[3], deltas[4]"
      ],
      "metadata": {
        "id": "zsGfpSMUUJLp"
      },
      "execution_count": null,
      "outputs": []
    },
    {
      "cell_type": "code",
      "source": [
        "matches = matches[:10000]"
      ],
      "metadata": {
        "id": "L5IRZpDCY3Bp"
      },
      "execution_count": null,
      "outputs": []
    },
    {
      "cell_type": "code",
      "source": [
        "dataset = []\n",
        "for matchData in matches:\n",
        "  blueTotalMasteryLevel = 0\n",
        "  blueTotalMasteryPoints = 0\n",
        "  redTotalMasteryLevel = 0\n",
        "  redTotalMasteryPoints = 0\n",
        "  blueWinRatings = []\n",
        "  redWinRatings = []\n",
        "\n",
        "  teamWin = getMatchWinner(matchData)\n",
        "  blueSynergyScore, redSynergyScore = getSynergy(matchData)\n",
        "\n",
        "  for i, participant in enumerate(matchData):\n",
        "    champId = participant[\"championId\"]\n",
        "    pos = i % 5\n",
        "    if i < 5:\n",
        "      blueTotalMasteryLevel += participant[\"masteryLevel\"]\n",
        "      blueTotalMasteryPoints += participant[\"masteryPoints\"]\n",
        "      blueWinRatings.append(getWinLoss(champId, pos))\n",
        "    else:\n",
        "      redTotalMasteryLevel += participant[\"masteryLevel\"]\n",
        "      redTotalMasteryPoints += participant[\"masteryPoints\"]\n",
        "      redWinRatings.append(getWinLoss(champId, pos))\n",
        "\n",
        "  topDelta, jgDelta, midDelta, botDelta, supDelta = getDeltas(matchData)\n",
        "\n",
        "  features = {\n",
        "    'blueTopRating': blueWinRatings[0],\n",
        "    'blueJgRating': blueWinRatings[1],\n",
        "    'blueMidRating': blueWinRatings[2],\n",
        "    'blueBotRating': blueWinRatings[3],\n",
        "    'blueSupRating': blueWinRatings[4],\n",
        "    'redTopRating': redWinRatings[0],\n",
        "    'redJgRating': redWinRatings[1],\n",
        "    'redMidRating': redWinRatings[2],\n",
        "    'redBotRating': redWinRatings[3],\n",
        "    'redSupRating': redWinRatings[4],\n",
        "    'blueAvgMasteryLevel': blueTotalMasteryLevel / 5,\n",
        "    'blueAvgMasteryPoints': blueTotalMasteryPoints / 5,\n",
        "    'redAvgMasteryLevel': redTotalMasteryLevel / 5,\n",
        "    'redAvgMasteryPoints': redTotalMasteryPoints / 5,\n",
        "    'blueSynergyScore': blueSynergyScore,\n",
        "    'redSynergyScore': redSynergyScore,\n",
        "    'topDelta': topDelta,\n",
        "    'jgDelta': jgDelta,\n",
        "    'midDelta': midDelta,\n",
        "    'botDelta': botDelta,\n",
        "    'supDelta': supDelta,\n",
        "    'teamWin': teamWin\n",
        "  }\n",
        "  dataset.append(features)"
      ],
      "metadata": {
        "id": "0fb8DD4kDN3f"
      },
      "execution_count": null,
      "outputs": []
    },
    {
      "cell_type": "code",
      "source": [
        "import pandas as pd\n",
        "\n",
        "df = pd.DataFrame(dataset)\n",
        "df"
      ],
      "metadata": {
        "id": "6hj07JsAcHyK"
      },
      "execution_count": null,
      "outputs": []
    },
    {
      "cell_type": "code",
      "source": [
        "df.to_csv(\"/content/drive/MyDrive/ML/data.csv\", index=False)"
      ],
      "metadata": {
        "id": "TXi3-1avGhbL"
      },
      "execution_count": null,
      "outputs": []
    },
    {
      "cell_type": "markdown",
      "source": [
        "### EDA"
      ],
      "metadata": {
        "id": "VbAAY1H-HLv_"
      }
    },
    {
      "cell_type": "code",
      "source": [
        "df = pd.read_csv(\"/content/drive/MyDrive/ML/data.csv\")"
      ],
      "metadata": {
        "id": "KPyDfGpdioQL"
      },
      "execution_count": null,
      "outputs": []
    },
    {
      "cell_type": "code",
      "source": [
        "df['teamWin'].value_counts()"
      ],
      "metadata": {
        "id": "TNPNbba3kvpu"
      },
      "execution_count": null,
      "outputs": []
    },
    {
      "cell_type": "code",
      "source": [
        "import matplotlib.pyplot as plt\n",
        "import numpy as np\n",
        "\n",
        "# Convert the 'wins' and 'losses' to win rate and store it in a new matrix\n",
        "winRateMatrix = np.zeros((matrixSize, matrixSize))\n",
        "for i in range(matrixSize):\n",
        "    for j in range(matrixSize):\n",
        "        if synergyMatrix[i][j]['wins'] + synergyMatrix[i][j]['losses'] > 0:\n",
        "            winRateMatrix[i][j] = (synergyMatrix[i][j]['wins'] - synergyMatrix[i][j][\"losses\"]) / (synergyMatrix[i][j]['wins'] + synergyMatrix[i][j]['losses'])\n",
        "\n",
        "# Define the indices for the entire matrix (0 to 10)\n",
        "startRow, endRow = 0, 10\n",
        "startCol, endCol = 0, 10\n",
        "\n",
        "# Select the entire matrix\n",
        "subsetMatrix = winRateMatrix[startRow:endRow, startCol:endCol]\n",
        "\n",
        "# Plot the entire matrix with axes on the left and bottom\n",
        "fig, ax = plt.subplots()\n",
        "cax = ax.matshow(subsetMatrix, cmap='viridis')\n",
        "\n",
        "# Display the actual values in each cell for the subset\n",
        "for i in range(subsetMatrix.shape[0]):\n",
        "    for j in range(subsetMatrix.shape[1]):\n",
        "        value = subsetMatrix[i, j]\n",
        "        ax.text(j, i, f'{value:.1f}', va='center', ha='center', color='white' if value < 0.5 else 'black')\n",
        "\n",
        "# Set the ticks and labels on the left and bottom for the subset\n",
        "ax.set_xticks(np.arange(startCol, endCol))\n",
        "ax.set_yticks(np.arange(startRow, endRow))\n",
        "ax.set_xticklabels(keys[startCol:endCol])\n",
        "ax.set_yticklabels(keys[startRow:endRow])\n",
        "\n",
        "# Add colorbar\n",
        "cbar = fig.colorbar(cax)\n",
        "cbar.set_label('Win Rate')\n",
        "\n",
        "# Small snippet\n",
        "plt.show()"
      ],
      "metadata": {
        "id": "YJiM4_Ut-h9x"
      },
      "execution_count": null,
      "outputs": []
    },
    {
      "cell_type": "code",
      "source": [
        "import matplotlib.pyplot as plt\n",
        "import numpy as np\n",
        "\n",
        "# Convert the 'wins' and 'losses' to win rate and store it in a new matrix\n",
        "winRateMatrix = np.zeros((matrixSize, matrixSize))\n",
        "for i in range(matrixSize):\n",
        "    for j in range(matrixSize):\n",
        "        if counterMatrix[i][j]['wins'] + counterMatrix[i][j]['losses'] > 0:\n",
        "            winRateMatrix[i][j] = (counterMatrix[i][j]['wins'] - counterMatrix[i][j][\"losses\"]) / (counterMatrix[i][j]['wins'] + counterMatrix[i][j]['losses'])\n",
        "\n",
        "# Define the indices for the entire matrix (0 to 10)\n",
        "startRow, endRow = 0, 10\n",
        "startCol, endCol = 0, 10\n",
        "\n",
        "# Select the entire matrix\n",
        "subsetMatrix = winRateMatrix[startRow:endRow, startCol:endCol]\n",
        "\n",
        "# Plot the entire matrix with axes on the left and bottom\n",
        "fig, ax = plt.subplots()\n",
        "cax = ax.matshow(subsetMatrix, cmap='viridis')\n",
        "\n",
        "# Display the actual values in each cell for the subset\n",
        "for i in range(subsetMatrix.shape[0]):\n",
        "    for j in range(subsetMatrix.shape[1]):\n",
        "        value = subsetMatrix[i, j]\n",
        "        ax.text(j, i, f'{value:.1f}', va='center', ha='center', color='white' if value < 0.5 else 'black')\n",
        "\n",
        "# Set the ticks and labels on the left and bottom for the subset\n",
        "ax.set_xticks(np.arange(startCol, endCol))\n",
        "ax.set_yticks(np.arange(startRow, endRow))\n",
        "ax.set_xticklabels(keys[startCol:endCol])\n",
        "ax.set_yticklabels(keys[startRow:endRow])\n",
        "\n",
        "# Add colorbar\n",
        "cbar = fig.colorbar(cax)\n",
        "cbar.set_label('Win Rate')\n",
        "\n",
        "# Small snippet\n",
        "plt.show()"
      ],
      "metadata": {
        "id": "RoQFNngE-oKM"
      },
      "execution_count": null,
      "outputs": []
    }
  ]
}