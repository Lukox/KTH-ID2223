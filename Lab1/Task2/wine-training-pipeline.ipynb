{
 "cells": [
  {
   "cell_type": "code",
   "execution_count": 1,
   "id": "f59e4e2d-95a3-4bc1-9860-769856e73d87",
   "metadata": {},
   "outputs": [],
   "source": [
    "    import hopsworks\n",
    "    import pandas as pd\n",
    "    from sklearn.neighbors import KNeighborsClassifier\n",
    "    from sklearn.metrics import accuracy_score\n",
    "    from sklearn.metrics import confusion_matrix\n",
    "    from sklearn.metrics import classification_report\n",
    "    import seaborn as sns\n",
    "    from matplotlib import pyplot\n",
    "    from hsml.schema import Schema\n",
    "    from hsml.model_schema import ModelSchema\n",
    "    import joblib\n",
    "    import os"
   ]
  },
  {
   "cell_type": "code",
   "execution_count": 2,
   "id": "55c37c94-4944-48a7-8964-f81976d65f73",
   "metadata": {},
   "outputs": [
    {
     "name": "stdout",
     "output_type": "stream",
     "text": [
      "Connected. Call `.close()` to terminate connection gracefully.\n",
      "\n",
      "Logged in to project, explore it here https://c.app.hopsworks.ai:443/p/204950\n",
      "Connected. Call `.close()` to terminate connection gracefully.\n"
     ]
    }
   ],
   "source": [
    "# You have to set the environment variable 'HOPSWORKS_API_KEY' for login to succeed\n",
    "project = hopsworks.login()\n",
    "fs = project.get_feature_store()"
   ]
  },
  {
   "cell_type": "code",
   "execution_count": 3,
   "id": "7f2cae8d-6220-4533-a708-f1e50cf5a4a9",
   "metadata": {},
   "outputs": [],
   "source": [
    "wine_fg = fs.get_feature_group(name=\"wine\", version=3)\n",
    "\n",
    "# Selecting relevant features from both feature groups\n",
    "query = wine_fg.select_all()\n",
    "\n",
    "# Creating the feature view\n",
    "feature_view = fs.get_or_create_feature_view(\n",
    "    name=\"wine\",\n",
    "    version=4,\n",
    "    description=\"feature view for red and white wines\",\n",
    "    labels=[\"quality\"],\n",
    "    query=query\n",
    ")"
   ]
  },
  {
   "cell_type": "markdown",
   "id": "3541698f-02ed-4152-80de-44dddda954c1",
   "metadata": {},
   "source": [
    "### Training and Testing Models\n",
    "\n",
    "We have randomly split our dataset into training and test sets using a 4:1 ratio. Our goal is to train various regression models and identify the best-performing one. To determine the optimal model, we are comparing their Mean Squared Errors (MSE), with a focus on selecting the model that yields the smallest MSE. This approach aligns with our decision to treat the dataset as a regression problem, emphasizing the importance of minimizing prediction errors for accurate model performance evaluation"
   ]
  },
  {
   "cell_type": "code",
   "execution_count": 4,
   "id": "ff416f10-d9ca-46d6-ae70-2b87f62b031d",
   "metadata": {},
   "outputs": [
    {
     "name": "stdout",
     "output_type": "stream",
     "text": [
      "Finished: Reading data from Hopsworks, using ArrowFlight (1.23s) \n"
     ]
    },
    {
     "name": "stderr",
     "output_type": "stream",
     "text": [
      "VersionWarning: Incremented version to `3`.\n"
     ]
    }
   ],
   "source": [
    "X_train, X_test, y_train, y_test = feature_view.train_test_split(0.2)"
   ]
  },
  {
   "cell_type": "markdown",
   "id": "c26e97d6-119a-4efd-8889-9fe5d0bee136",
   "metadata": {},
   "source": [
    "Below we can normalize our training data, which might be beneficial for some models. We will run models on both original and normalized values to see what does best"
   ]
  },
  {
   "cell_type": "code",
   "execution_count": 5,
   "id": "7d240cdc-4c34-4067-91d0-87a88d1689a8",
   "metadata": {},
   "outputs": [],
   "source": [
    "#importing module\n",
    "from sklearn.preprocessing import MinMaxScaler\n",
    "# creating normalization object \n",
    "norm = MinMaxScaler()\n",
    "# fit data\n",
    "norm_fit = norm.fit(X_train)\n",
    "norm_X_train = norm_fit.transform(X_train)\n",
    "norm_X_test = norm_fit.transform(X_test)"
   ]
  },
  {
   "cell_type": "code",
   "execution_count": null,
   "id": "b9a3570c-93b2-41f8-8ebb-a8ac757be1fa",
   "metadata": {},
   "outputs": [],
   "source": [
    "from sklearn.ensemble import RandomForestClassifier\n",
    "model = RandomForestClassifier()\n",
    "classify(model)"
   ]
  },
  {
   "cell_type": "markdown",
   "id": "11ebaa96-b485-40d5-a0d8-bb035ad8eaac",
   "metadata": {},
   "source": [
    "### Logisitic Regression"
   ]
  },
  {
   "cell_type": "code",
   "execution_count": 9,
   "id": "8b3f1b43-8954-4a6c-93db-24f6b46532d7",
   "metadata": {},
   "outputs": [
    {
     "name": "stdout",
     "output_type": "stream",
     "text": [
      "Mean Squared Error for original data: 0.5044197935646978\n"
     ]
    }
   ],
   "source": [
    "from sklearn.linear_model import LinearRegression\n",
    "from sklearn.metrics import mean_squared_error\n",
    "model = LinearRegression()\n",
    "model.fit(X_train, y_train)\n",
    "y_pred = model.predict(X_test)\n",
    "mse = mean_squared_error(y_test, y_pred)\n",
    "print(f'Mean Squared Error for original data: {mse}')"
   ]
  },
  {
   "cell_type": "markdown",
   "id": "29d54648-e184-4aa6-b06d-dd999912980f",
   "metadata": {},
   "source": [
    "Linear regression does not require normalization"
   ]
  },
  {
   "cell_type": "markdown",
   "id": "d732ad1d-11d1-4709-af7e-6353ab89d88d",
   "metadata": {},
   "source": [
    "### Decision Tree Regressor"
   ]
  },
  {
   "cell_type": "code",
   "execution_count": 11,
   "id": "0b448852-527f-412c-98d1-7d49dad90185",
   "metadata": {},
   "outputs": [
    {
     "name": "stdout",
     "output_type": "stream",
     "text": [
      "Mean Squared Error for original data: 0.9174573055028463\n"
     ]
    }
   ],
   "source": [
    "from sklearn.tree import DecisionTreeRegressor\n",
    "model = DecisionTreeRegressor()\n",
    "model.fit(X_train, y_train)\n",
    "y_pred = model.predict(X_test)\n",
    "mse = mean_squared_error(y_test, y_pred)\n",
    "print(f'Mean Squared Error for original data: {mse}')"
   ]
  },
  {
   "cell_type": "code",
   "execution_count": 12,
   "id": "07646e17-a448-43d1-b814-303f5189411a",
   "metadata": {},
   "outputs": [
    {
     "name": "stdout",
     "output_type": "stream",
     "text": [
      "Mean Squared Error for normalized data: 0.9516129032258065\n"
     ]
    }
   ],
   "source": [
    "model = DecisionTreeRegressor()\n",
    "model.fit(norm_X_train, y_train)\n",
    "y_pred = model.predict(norm_X_test)\n",
    "mse = mean_squared_error(y_test, y_pred)\n",
    "print(f'Mean Squared Error for normalized data: {mse}')"
   ]
  },
  {
   "cell_type": "markdown",
   "id": "797d2e75-c664-46f2-af20-e0aeeb4f01cc",
   "metadata": {},
   "source": [
    "### SVM"
   ]
  },
  {
   "cell_type": "code",
   "execution_count": 15,
   "id": "a53c96f4-f785-4f02-8073-793afaa2c5b6",
   "metadata": {},
   "outputs": [
    {
     "name": "stdout",
     "output_type": "stream",
     "text": [
      "Mean Squared Error for original data: 0.5421720816593026\n"
     ]
    }
   ],
   "source": [
    "from sklearn.svm import SVR\n",
    "model = SVR()\n",
    "model.fit(X_train, y_train.values.ravel())\n",
    "y_pred = model.predict(X_test)\n",
    "mse = mean_squared_error(y_test, y_pred)\n",
    "print(f'Mean Squared Error for original data: {mse}')"
   ]
  },
  {
   "cell_type": "code",
   "execution_count": 17,
   "id": "543ea116-7f1f-480d-a772-6d17a1d75824",
   "metadata": {},
   "outputs": [
    {
     "name": "stdout",
     "output_type": "stream",
     "text": [
      "Mean Squared Error for normalized data: 0.46767590803860765\n"
     ]
    }
   ],
   "source": [
    "model = SVR()\n",
    "model.fit(norm_X_train, y_train.values.ravel())\n",
    "y_pred = model.predict(norm_X_test)\n",
    "mse = mean_squared_error(y_test, y_pred)\n",
    "print(f'Mean Squared Error for normalized data: {mse}')"
   ]
  },
  {
   "cell_type": "markdown",
   "id": "25f33910-6615-4799-bdda-a8a453638251",
   "metadata": {},
   "source": [
    "### XGBOOST"
   ]
  },
  {
   "cell_type": "code",
   "execution_count": 18,
   "id": "2926ef90-7b2e-44b4-85bb-67b25f6b3724",
   "metadata": {},
   "outputs": [
    {
     "name": "stdout",
     "output_type": "stream",
     "text": [
      "Mean Squared Error: 0.5045799531053323\n"
     ]
    }
   ],
   "source": [
    "import xgboost as xgb\n",
    "model = xgb.XGBRegressor()\n",
    "model.fit(X_train, y_train)\n",
    "y_pred = model.predict(X_test)\n",
    "mse = mean_squared_error(y_test, y_pred)\n",
    "print(f\"Mean Squared Error: {mse}\")"
   ]
  },
  {
   "cell_type": "markdown",
   "id": "1352515f-537d-4235-877b-f3bbd0730664",
   "metadata": {},
   "source": [
    "No need for normalization"
   ]
  },
  {
   "cell_type": "markdown",
   "id": "9ac60049-95e3-428d-8742-ed4cb9fb023e",
   "metadata": {},
   "source": [
    "### Random Forest Regression"
   ]
  },
  {
   "cell_type": "code",
   "execution_count": 22,
   "id": "5f8efe2c-84e4-4edf-bfd6-bcfab980ce7d",
   "metadata": {},
   "outputs": [
    {
     "name": "stdout",
     "output_type": "stream",
     "text": [
      "Mean Squared Error: 0.4620271347248577\n"
     ]
    }
   ],
   "source": [
    "from sklearn.ensemble import RandomForestRegressor\n",
    "model = RandomForestRegressor()\n",
    "model.fit(X_train, y_train.values.ravel())\n",
    "y_pred = model.predict(X_test)\n",
    "mse = mean_squared_error(y_test, y_pred)\n",
    "print(f\"Mean Squared Error: {mse}\")"
   ]
  },
  {
   "cell_type": "code",
   "execution_count": 23,
   "id": "29c55317-b6c0-42d7-9664-80f4441d50f6",
   "metadata": {},
   "outputs": [
    {
     "name": "stdout",
     "output_type": "stream",
     "text": [
      "Mean Squared Error: 0.4686710626185959\n"
     ]
    }
   ],
   "source": [
    "model = RandomForestRegressor()\n",
    "model.fit(norm_X_train, y_train.values.ravel())\n",
    "y_pred = model.predict(norm_X_test)\n",
    "mse = mean_squared_error(y_test, y_pred)\n",
    "print(f\"Mean Squared Error: {mse}\")"
   ]
  },
  {
   "cell_type": "markdown",
   "id": "32e5767f-a957-4142-aa77-c9bca5747ad0",
   "metadata": {},
   "source": [
    "### Takeaways\n",
    "\n",
    "RandomForest regression model was the best model for our training data, as we decided mse to be our deciding factor for the best performing model. Normalization of the data had basically no effect. SVM was 2nd best performing, working much better on normalized data. Decision Tree Regressor was by far the worst model."
   ]
  },
  {
   "cell_type": "markdown",
   "id": "50fb1065-2da4-4265-ab82-5f22ecf28af0",
   "metadata": {},
   "source": [
    "### Hyperparamaters\n",
    "\n",
    "Since RandomForest was our best performing model without assigning hyperparameters, we are going to find the best ones to further improve our model. The code below runs for a couple hours."
   ]
  },
  {
   "cell_type": "code",
   "execution_count": null,
   "id": "fc88bd91-9fed-4bb9-8c2e-2f3181debb83",
   "metadata": {},
   "outputs": [],
   "source": [
    "from sklearn.model_selection import GridSearchCV\n",
    "from sklearn.ensemble import RandomForestRegressor  # Change the import\n",
    "\n",
    "model = RandomForestRegressor()  # Change the variable name\n",
    "param_grid = {\n",
    "    'n_estimators': [1, 200, 400, 600, 800, 1000, 1200, 1400, 1600, 1800, 2000],\n",
    "    'criterion': ['squared_error', 'poisson', 'absolute_error', 'friedman_mse'],\n",
    "    'min_samples_split': [2, 3, 4, 5],\n",
    "    'bootstrap': [False, True]\n",
    "}\n",
    "grid_search = GridSearchCV(estimator=regressor, param_grid=param_grid, n_jobs=-1, verbose=2, scoring='neg_mean_squared_error', cv=None)\n",
    "model = grid_search.fit(X_train, y_train)\n",
    "\n",
    "best_params = regressor.best_params_\n",
    "print(\"Best Parameters:\", best_params)"
   ]
  },
  {
   "cell_type": "markdown",
   "id": "8ce3242a-c755-4574-927b-96330d7c8cec",
   "metadata": {},
   "source": [
    "The best parameters we got are: n_estimators = 1200, criterion = squared_error, min_samples_split = 3, bootstrap = True. Below we test the model with the new hyperparameters."
   ]
  },
  {
   "cell_type": "code",
   "execution_count": 30,
   "id": "d2e281c9-e234-428c-bc9d-7741abcdd49e",
   "metadata": {},
   "outputs": [
    {
     "name": "stdout",
     "output_type": "stream",
     "text": [
      "Mean Squared Error: 0.45666809411070564\n"
     ]
    }
   ],
   "source": [
    "model = RandomForestRegressor(\n",
    "    n_estimators = 1200,\n",
    "    criterion='friedman_mse',\n",
    "    min_samples_split=3,\n",
    "    bootstrap=True\n",
    ")\n",
    "model.fit(X_train, y_train.values.ravel())\n",
    "y_pred = model.predict(X_test)\n",
    "mse = mean_squared_error(y_test, y_pred)\n",
    "print(\"Mean Squared Error:\", mse)"
   ]
  },
  {
   "cell_type": "markdown",
   "id": "dfea20b7-0dbc-46ba-82e0-579618f08c52",
   "metadata": {},
   "source": [
    "The mse has slightly reduced with the hyperparameters. "
   ]
  },
  {
   "cell_type": "code",
   "execution_count": 33,
   "id": "3c9fb07a-cb49-4647-bbcd-9b0b5e9e9ad7",
   "metadata": {},
   "outputs": [
    {
     "data": {
      "image/png": "[encoded data removed]",
      "text/plain": [
       "<Figure size 640x480 with 1 Axes>"
      ]
     },
     "metadata": {},
     "output_type": "display_data"
    }
   ],
   "source": [
    "import numpy as np\n",
    "import matplotlib.pyplot as plt\n",
    "plt.scatter(y_test, y_pred)\n",
    "plt.plot(np.unique(y_test), np.poly1d(np.polyfit(y_test.values.ravel(), y_pred, 1))(np.unique(y_test)), color='red', linestyle='--')\n",
    "plt.xlabel(\"Actual Values\")\n",
    "plt.ylabel(\"Predicted Values\")\n",
    "plt.title(\"Actual vs Predicted Values for Regression Model\")\n",
    "plt.show()"
   ]
  },
  {
   "cell_type": "markdown",
   "id": "555f3970-7a1a-4a59-aa82-45fa9872f855",
   "metadata": {},
   "source": [
    "### Uploading Model"
   ]
  },
  {
   "cell_type": "code",
   "execution_count": 35,
   "id": "12d7e4da-971f-4954-a1c9-89252e75efce",
   "metadata": {},
   "outputs": [
    {
     "name": "stdout",
     "output_type": "stream",
     "text": [
      "Connected. Call `.close()` to terminate connection gracefully.\n"
     ]
    },
    {
     "data": {
      "application/vnd.jupyter.widget-view+json": {
       "model_id": "10df1e0b342545d2abc708f4852f0746",
       "version_major": 2,
       "version_minor": 0
      },
      "text/plain": [
       "  0%|          | 0/6 [00:00<?, ?it/s]"
      ]
     },
     "metadata": {},
     "output_type": "display_data"
    },
    {
     "name": "stdout",
     "output_type": "stream",
     "text": [
      "Model created, explore it at https://c.app.hopsworks.ai:443/p/204950/models/wine_model/17\n"
     ]
    },
    {
     "data": {
      "text/plain": [
       "Model(name: 'wine_model', version: 17)"
      ]
     },
     "execution_count": 35,
     "metadata": {},
     "output_type": "execute_result"
    }
   ],
   "source": [
    "mr = project.get_model_registry()\n",
    "\n",
    "model_dir=\"wine_model\"\n",
    "if os.path.isdir(model_dir) == False:\n",
    "    os.mkdir(model_dir)\n",
    "\n",
    "joblib.dump(model, model_dir + \"/wine_model.pkl\")\n",
    "#fig.savefig(model_dir + \"/confusion_matrix.png\")\n",
    "\n",
    "input_schema = Schema(X_train)\n",
    "output_schema = Schema(y_train)\n",
    "model_schema = ModelSchema(input_schema, output_schema)\n",
    "\n",
    "wine_model = mr.python.create_model(\n",
    "    name=\"wine_model\",\n",
    "    metrics={\"mse\" : mse},\n",
    "    model_schema=model_schema,\n",
    "    description=\"Wine Quality Predictor\"\n",
    ")\n",
    "\n",
    "wine_model.save(model_dir)"
   ]
  },
  {
   "cell_type": "code",
   "execution_count": null,
   "id": "55eda2e5-78ff-405f-84f9-04ebad10345c",
   "metadata": {},
   "outputs": [],
   "source": []
  }
 ],
 "metadata": {
  "kernelspec": {
   "display_name": "Python 3 (ipykernel)",
   "language": "python",
   "name": "python3"
  },
  "language_info": {
   "codemirror_mode": {
    "name": "ipython",
    "version": 3
   },
   "file_extension": ".py",
   "mimetype": "text/x-python",
   "name": "python",
   "nbconvert_exporter": "python",
   "pygments_lexer": "ipython3",
   "version": "3.10.0"
  }
 },
 "nbformat": 4,
 "nbformat_minor": 5
}
