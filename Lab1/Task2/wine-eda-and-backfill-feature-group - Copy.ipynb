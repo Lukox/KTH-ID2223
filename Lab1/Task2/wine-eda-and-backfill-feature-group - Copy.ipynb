{
 "cells": [
  {
   "cell_type": "code",
   "execution_count": null,
   "id": "5e332935",
   "metadata": {},
   "outputs": [],
   "source": [
    "import seaborn as sns\n",
    "sns.set_palette('husl')\n",
    "import matplotlib.pyplot as plt\n",
    "%matplotlib inline"
   ]
  },
  {
   "cell_type": "code",
   "execution_count": null,
   "id": "b720e1e6",
   "metadata": {},
   "outputs": [],
   "source": [
    "import hopsworks\n",
    "import pandas as pd"
   ]
  },
  {
   "cell_type": "code",
   "execution_count": null,
   "id": "7f74f260",
   "metadata": {},
   "outputs": [],
   "source": [
    "project = hopsworks.login()\n",
    "fs = project.get_feature_store()"
   ]
  },
  {
   "cell_type": "code",
   "execution_count": null,
   "id": "d6e407db",
   "metadata": {},
   "outputs": [],
   "source": [
    "red_wine_df = pd.read_csv(\"https://archive.ics.uci.edu/ml/machine-learning-databases/wine-quality/winequality-red.csv\", sep=\";\")\n",
    "\n",
    "red_wine_df"
   ]
  },
  {
   "cell_type": "code",
   "execution_count": null,
   "id": "be6b7214-25b5-41cd-80b7-bab519eb04b3",
   "metadata": {},
   "outputs": [],
   "source": [
    "white_wine_df = pd.read_csv(\"https://archive.ics.uci.edu/ml/machine-learning-databases/wine-quality/winequality-white.csv\", sep=\";\")\n",
    "\n",
    "white_wine_df"
   ]
  },
  {
   "cell_type": "code",
   "execution_count": null,
   "id": "db11daea-b4f4-438d-8e9e-9fff3a2e5971",
   "metadata": {},
   "outputs": [],
   "source": [
    "red_wine_df['wine_type'] = 0\n",
    "white_wine_df['wine_type'] = 1\n",
    "\n",
    "# Combine the two dataframes\n",
    "wine_df = pd.concat([red_wine_df, white_wine_df], ignore_index=True)\n",
    "wine_df = wine_df.reset_index(drop=True)\n",
    "wine_df"
   ]
  },
  {
   "cell_type": "code",
   "execution_count": null,
   "id": "a7c141f6-f8b5-4694-8e0b-c62eeed0755b",
   "metadata": {},
   "outputs": [],
   "source": [
    "# Checking for Missing Values\n",
    "print(wine_df.isnull().sum())"
   ]
  },
  {
   "cell_type": "code",
   "execution_count": null,
   "id": "67922f4f",
   "metadata": {},
   "outputs": [],
   "source": [
    "wine_df.info()"
   ]
  },
  {
   "cell_type": "code",
   "execution_count": null,
   "id": "28d13684",
   "metadata": {},
   "outputs": [],
   "source": [
    "wine_df.describe()"
   ]
  },
  {
   "cell_type": "code",
   "execution_count": null,
   "id": "d96706c5",
   "metadata": {},
   "outputs": [],
   "source": [
    "wine_df['quality'].value_counts()"
   ]
  },
  {
   "cell_type": "markdown",
   "id": "a5fb8439",
   "metadata": {},
   "source": [
    "### Exploratory Data Analysis (EDA)  our Iris Data\n",
    "\n",
    "Let's look at our iris flower - the distribution and range of values for the 4 different features\n",
    " * sepal_length\n",
    " * sepal_width\n",
    " * petal_length\n",
    " * petal_width\n",
    " \n",
    " and the target variable is `variety`."
   ]
  },
  {
   "cell_type": "markdown",
   "id": "7b0c499a",
   "metadata": {},
   "source": [
    "### Visualize range of values \n",
    "\n",
    "We want to design a simulator generate the 3 types of iris flower (setosa, versicolor, virginica).\n",
    "To do this, we can visualize the range of values for the length and width of the sepal and petal for each of the 3 flowers."
   ]
  },
  {
   "cell_type": "code",
   "execution_count": null,
   "id": "01e5e63f-ed22-4824-bb6c-329e5ed83a9a",
   "metadata": {},
   "outputs": [],
   "source": [
    "X = wine_df.drop(['quality'], axis=1)\n",
    "Y = wine_df['quality']"
   ]
  },
  {
   "cell_type": "code",
   "execution_count": null,
   "id": "a661238e-104b-4ff1-8e5f-601adef1872a",
   "metadata": {},
   "outputs": [],
   "source": [
    "from imblearn.over_sampling import SMOTE\n",
    "oversample = SMOTE(k_neighbors=4)\n",
    "# transform the dataset\n",
    "X, Y = oversample.fit_resample(X, Y)"
   ]
  },
  {
   "cell_type": "code",
   "execution_count": null,
   "id": "21a38d35-9ef2-4516-a852-8f89ab8926cb",
   "metadata": {},
   "outputs": [],
   "source": [
    "wine_df = pd.concat([X, pd.DataFrame(Y, columns=['quality'])], axis=1)\n",
    "\n",
    "# Calculate the correlation matrix\n",
    "correlation_matrix = df.corr()\n",
    "\n",
    "# Create a heatmap using seaborn\n",
    "plt.figure(figsize=(10, 8))\n",
    "corr = wine_df.corr()\n",
    "plt.subplots(figsize=(15,10))\n",
    "sns.heatmap(corr, xticklabels=corr.columns, yticklabels=corr.columns, annot=True, cmap='coolwarm')"
   ]
  },
  {
   "cell_type": "code",
   "execution_count": null,
   "id": "41140b38-467b-4039-8b38-564331f74413",
   "metadata": {},
   "outputs": [],
   "source": [
    "import pandas as pd\n",
    "from sklearn.feature_selection import RFECV\n",
    "from sklearn.linear_model import LogisticRegression\n",
    "from sklearn.model_selection import train_test_split\n",
    "from sklearn.preprocessing import StandardScaler\n",
    "\n",
    "# Assuming wine_df is your DataFrame with 12 features and a target variable\n",
    "# Replace 'target_column' with the actual name of your target variable column\n",
    "X = wine_df.drop('quality', axis=1)\n",
    "y = wine_df['quality']\n",
    "\n",
    "# Split the data into training and testing sets\n",
    "X_train, X_test, y_train, y_test = train_test_split(X, y, test_size=0.2, random_state=42)\n",
    "\n",
    "# Scale the features\n",
    "scaler = StandardScaler()\n",
    "X_train_scaled = scaler.fit_transform(X_train)\n",
    "X_test_scaled = scaler.transform(X_test)\n",
    "\n",
    "# Choose a model for RFE (replace LogisticRegression with your preferred model)\n",
    "model = LogisticRegression(max_iter=1000)\n",
    "\n",
    "# Set up RFECV with the chosen model\n",
    "rfecv = RFECV(estimator=model, step=1, cv=3)  # cv is the number of cross-validation folds\n",
    "\n",
    "# Fit RFECV on the scaled training data\n",
    "rfecv.fit(X_train_scaled, y_train)\n",
    "\n",
    "# Get the selected features\n",
    "selected_features = X_train.columns[rfecv.support_]\n",
    "\n",
    "# Print the selected features\n",
    "print(\"Optimal Number of Features: \", rfecv.n_features_)\n",
    "print(\"Selected Features: \", selected_features)"
   ]
  },
  {
   "cell_type": "code",
   "execution_count": null,
   "id": "a5503db8-f63e-4beb-9279-ecf6e2d3c060",
   "metadata": {},
   "outputs": [],
   "source": [
    "df['quality'].value_counts()"
   ]
  },
  {
   "cell_type": "code",
   "execution_count": null,
   "id": "69981de1",
   "metadata": {},
   "outputs": [],
   "source": [
    "g = sns.violinplot(y='fixed acidity', x='quality', data=wine_df, inner='quartile')\n",
    "plt.show()\n",
    "g = sns.violinplot(y='volatile acidity', x='quality', data=wine_df, inner='quartile')\n",
    "plt.show()\n",
    "g = sns.violinplot(y='citric acid', x='quality', data=wine_df, inner='quartile')\n",
    "plt.show()\n",
    "g = sns.violinplot(y='residual sugar', x='quality', data=wine_df, inner='quartile')\n",
    "plt.show()\n",
    "g = sns.violinplot(y='chlorides', x='quality', data=wine_df, inner='quartile')\n",
    "plt.show()\n",
    "g = sns.violinplot(y='free sulfur dioxide', x='quality', data=wine_df, inner='quartile')\n",
    "plt.show()\n",
    "g = sns.violinplot(y='total sulfur dioxide', x='quality', data=wine_df, inner='quartile')\n",
    "plt.show()\n",
    "g = sns.violinplot(y='density', x='quality', data=wine_df, inner='quartile')\n",
    "plt.show()\n",
    "g = sns.violinplot(y='pH', x='quality', data=wine_df, inner='quartile')\n",
    "plt.show()\n",
    "g = sns.violinplot(y='sulphates', x='quality', data=wine_df, inner='quartile')\n",
    "plt.show()\n",
    "g = sns.violinplot(y='alcohol', x='quality', data=wine_df, inner='quartile')\n",
    "plt.show()"
   ]
  },
  {
   "cell_type": "code",
   "execution_count": null,
   "id": "ae35dfbd-5e86-4fca-a3b1-c61535917ef1",
   "metadata": {},
   "outputs": [],
   "source": [
    "#DROPPING\n",
    "wine_df = wine_df.drop(['total sulfur dioxide'], axis=1)\n",
    "#white_wine_df = white_wine_df.drop(['residual sugar', 'free sulfur dioxide', 'pH', 'citric acid', 'sulphates'], axis=1)\n",
    "\n",
    "wine_df.columns = wine_df.columns.str.replace(' ', '_')\n",
    "#white_wine_df.columns = white_wine_df.columns.str.replace(' ', '_')"
   ]
  },
  {
   "cell_type": "markdown",
   "id": "6e6adb93",
   "metadata": {},
   "source": [
    "### Insert our Iris DataFrame into a FeatureGroup\n",
    "DROPPING BELOW 0.1 absolute value. FOR WHITE PH and citric acid are extra irrelevant. XGBOOST???"
   ]
  },
  {
   "cell_type": "code",
   "execution_count": null,
   "id": "6df9d07f",
   "metadata": {},
   "outputs": [],
   "source": [
    "wine_fg = fs.get_or_create_feature_group(\n",
    "    name=\"wine2\",\n",
    "    version=1,\n",
    "    primary_key=[\"density\",\"volatile_acidity\",\"chlorides\", \"alcohol\", \"wine_type\",\"fixed_acidity\",\"citric_acid\",\"sulphates\",\"free_sulfur_dioxide\",\"pH\",\"residual_sugar\"], \n",
    "    description=\"Wine dataset\")\n",
    "wine_fg.insert(wine_df)"
   ]
  },
  {
   "cell_type": "markdown",
   "id": "e0520ac0",
   "metadata": {},
   "source": [
    "### Data Validation\n",
    "If you want, you can enable data validation for your feature group.\n",
    "The code below will prevent iris flower data from being written your your feature group if you write values outside the expected ranges."
   ]
  },
  {
   "cell_type": "code",
   "execution_count": null,
   "id": "026c8802",
   "metadata": {},
   "outputs": [],
   "source": [
    "from great_expectations.core import ExpectationSuite, ExpectationConfiguration\n",
    "\n",
    "def expect(suite, column, min_val, max_val):\n",
    "    suite.add_expectation(\n",
    "    ExpectationConfiguration(\n",
    "        expectation_type=\"expect_column_values_to_be_between\",\n",
    "        kwargs={\n",
    "            \"column\":column, \n",
    "            \"min_value\":min_val,\n",
    "            \"max_value\":max_val,\n",
    "        }\n",
    "    )\n",
    ")"
   ]
  },
  {
   "cell_type": "code",
   "execution_count": null,
   "id": "9e345afd",
   "metadata": {},
   "outputs": [],
   "source": [
    "suite = ExpectationSuite(expectation_suite_name=\"red_wine_dimensions\")\n",
    "\n",
    "expect(suite, \"fixed_acidity\", 4.6, 15.9)\n",
    "expect(suite, \"volatile_acidity\", 0.12, 1.58)\n",
    "expect(suite, \"citric_acid\", 0, 1)\n",
    "expect(suite, \"chlorides\", 0.012, 0.611)\n",
    "expect(suite, \"total_sulfur_dioxide\", 6, 289)\n",
    "expect(suite, \"density\", 0.99007, 1.00369)\n",
    "expect(suite, \"sulphates\", 0.33, 2)\n",
    "expect(suite, \"alcohol\", 8.4, 14.9)\n",
    "red_wine_fg.save_expectation_suite(expectation_suite=suite, validation_ingestion_policy=\"STRICT\")\n",
    "\n",
    "suite1 = ExpectationSuite(expectation_suite_name=\"white_wine_dimensions\")\n",
    "\n",
    "expect(suite1, \"fixed_acidity\", 3.8, 14.2)\n",
    "expect(suite1, \"volatile_acidity\", 0.08, 1.1)\n",
    "expect(suite1, \"chlorides\", 0.009, 0.346)\n",
    "expect(suite1, \"total_sulfur_dioxide\", 9, 440)\n",
    "expect(suite1, \"density\", 0.98711, 1.03898)\n",
    "expect(suite1, \"alcohol\", 8, 14.2)\n",
    "white_wine_fg.save_expectation_suite(expectation_suite=suite1, validation_ingestion_policy=\"STRICT\")\n"
   ]
  },
  {
   "cell_type": "code",
   "execution_count": null,
   "id": "14ead76e",
   "metadata": {},
   "outputs": [],
   "source": []
  }
 ],
 "metadata": {
  "kernelspec": {
   "display_name": "Python 3 (ipykernel)",
   "language": "python",
   "name": "python3"
  },
  "language_info": {
   "codemirror_mode": {
    "name": "ipython",
    "version": 3
   },
   "file_extension": ".py",
   "mimetype": "text/x-python",
   "name": "python",
   "nbconvert_exporter": "python",
   "pygments_lexer": "ipython3",
   "version": "3.10.0"
  }
 },
 "nbformat": 4,
 "nbformat_minor": 5
}
